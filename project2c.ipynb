{
 "cells": [
  {
   "cell_type": "code",
   "execution_count": 1,
   "id": "4fe98a5e",
   "metadata": {},
   "outputs": [
    {
     "ename": "NameError",
     "evalue": "name 'centroids' is not defined",
     "output_type": "error",
     "traceback": [
      "\u001b[1;31m---------------------------------------------------------------------------\u001b[0m",
      "\u001b[1;31mNameError\u001b[0m                                 Traceback (most recent call last)",
      "\u001b[1;32m<ipython-input-1-2e02f5dfa9bf>\u001b[0m in \u001b[0;36m<module>\u001b[1;34m\u001b[0m\n\u001b[0;32m     29\u001b[0m     \u001b[1;32mreturn\u001b[0m \u001b[0mpoints\u001b[0m\u001b[1;33m\u001b[0m\u001b[1;33m\u001b[0m\u001b[0m\n\u001b[0;32m     30\u001b[0m \u001b[1;31m#printing the following: centroids, distances, points\u001b[0m\u001b[1;33m\u001b[0m\u001b[1;33m\u001b[0m\u001b[1;33m\u001b[0m\u001b[0m\n\u001b[1;32m---> 31\u001b[1;33m \u001b[0mprint\u001b[0m\u001b[1;33m(\u001b[0m\u001b[0mcentroids\u001b[0m\u001b[1;33m)\u001b[0m\u001b[1;33m\u001b[0m\u001b[1;33m\u001b[0m\u001b[0m\n\u001b[0m\u001b[0;32m     32\u001b[0m \u001b[0mprint\u001b[0m\u001b[1;33m(\u001b[0m\u001b[0mdistances\u001b[0m\u001b[1;33m)\u001b[0m\u001b[1;33m\u001b[0m\u001b[1;33m\u001b[0m\u001b[0m\n\u001b[0;32m     33\u001b[0m \u001b[0mprint\u001b[0m\u001b[1;33m(\u001b[0m\u001b[0mpoints\u001b[0m\u001b[1;33m)\u001b[0m\u001b[1;33m\u001b[0m\u001b[1;33m\u001b[0m\u001b[0m\n",
      "\u001b[1;31mNameError\u001b[0m: name 'centroids' is not defined"
     ]
    }
   ],
   "source": [
    "#import libraries\n",
    "import pandas as pd\n",
    "import numpy as np\n",
    "from scipy.spatial.distance import cdist \n",
    "from sklearn.cluster import KMeans\n",
    "import matplotlib.pyplot as plt\n",
    "\n",
    "#import data\n",
    "df = pd.read_excel(r\"C:\\Users\\16197\\Downloads\\41467_2017_2055_MOESM3_ESM (1).xlsx\")\n",
    "#after importing our data, we can now start k-means analysis\n",
    "#define kmeans\n",
    "def kmeans(df, k): \n",
    "    #find the distance between centroids and all the data points\n",
    "    distances = cdist(df, centroids ,'euclidean')\n",
    "    \n",
    "    #determine centroid with the minimum distance\n",
    "    points = np.array([np.argmin(i) for i in distances])\n",
    "     \n",
    "    #repeat the above step for a defined number of iterations\n",
    "    for df in range(no_of_iterations): \n",
    "        centroids = []\n",
    "        for idx in range(k):\n",
    "            #updating centroids by taking mean of cluster it belongs to\n",
    "            temp_cent = [points==idx].mean(axis=0) \n",
    "            centroids.append(temp_cent)\n",
    "        #create variables for centroid, distances, and points\n",
    "        centroids = np.vstack(centroids) #(Updated centroids) \n",
    "        distances = cdist(df, centroids ,'euclidean')\n",
    "        points = np.array([np.argmin(i) for i in distances])\n",
    "    #return points\n",
    "    return points\n",
    "#printing the following: centroids, distances, points\n",
    "print(centroids)\n",
    "print(distances)\n",
    "print(points)\n",
    "\n",
    "#plotting the results:\n",
    "#create variable u_label using numpy function\n",
    "u_labels = np.unique(label)\n",
    "#use for loop plot points\n",
    "for i in u_labels:\n",
    "    plt.scatter(df[label == i , 0] , df[label == i , 1] , label = i)\n",
    "#provide legend for plot\n",
    "plt.legend()\n",
    "#show final result\n",
    "plt.show()"
   ]
  }
 ],
 "metadata": {
  "kernelspec": {
   "display_name": "Python 3",
   "language": "python",
   "name": "python3"
  },
  "language_info": {
   "codemirror_mode": {
    "name": "ipython",
    "version": 3
   },
   "file_extension": ".py",
   "mimetype": "text/x-python",
   "name": "python",
   "nbconvert_exporter": "python",
   "pygments_lexer": "ipython3",
   "version": "3.8.8"
  }
 },
 "nbformat": 4,
 "nbformat_minor": 5
}
