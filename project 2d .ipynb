{
 "cells": [
  {
   "cell_type": "markdown",
   "id": "b6743d03",
   "metadata": {},
   "source": [
    "# Project 2D: K-means and Cluster Plot"
   ]
  },
  {
   "cell_type": "markdown",
   "id": "17dd42e5",
   "metadata": {},
   "source": [
    "## Scientific Question: Are IL-6 and STAT3 gene both over expressed in acute inflammation in adult humans?\n",
    "IL-6, or interleukin 6, is a notable cytokine that is involved in immune responses and inflammation. Over expression of IL-6 is linked to chronic inflammation and autoimmunity. STAT3, known as Signal Transducer And Activator Of Transcription 3, is a gene that is a component of the interleukin-6 activated acute phase response factor (APRF) complex. This complex plays a crucial role in stimulating the expression of innate immune mediators in the liver. In a study of IL-6 treated colon cancer cells, IL-6 activates STAT3 through phosphorylation. Prolonged STAT3 activation leads to the proliferation of proteins that play roles in inflammation and cancer progression (Wang Y 2013). \n",
    "\n",
    "Access to data can be found on the NCBI SRA database: https://www.ncbi.nlm.nih.gov/sra/?term=IL-6+STAT3. \n",
    "\"Sequence Read Archive (SRA) data, available through multiple cloud providers and NCBI servers, is the largest publicly available repository of high throughput sequencing data. The archive accepts data from all branches of life as well as metagenomic and environmental surveys. SRA stores raw sequencing data and alignment information to enhance reproducibility and facilitate new discoveries through data analysis.\"\n",
    "\n",
    "\n",
    "## Scientific Hypothesis: If IL-6 is over expressed in acute inflammation, then STAT3 and IL-6 interactions should occur that causes over activation of STAT3.\n",
    "RNA seq data can be clustered using a method called K-means clustering. Clustering gene expression data provides a visual of gene groups that behave similarly. For example, clustering can depict gene groups that are co-functional, or share a biological function. To support my scientific hypothesis, the k-mean cluster plot should visually show STAT3 and IL-6 not only share a biological function but also show that STAT3 is over expressed when interacting with IL-6. \n",
    "To answer the scientific question and test my hypothesis, I searched for \"IL-6 STAT3\" on NCBI SRA database and found a paper that included an excel file containing data from RNA seq on gene expression levels from a sample of mice hepatocytes when treated in IL-6 and IL-1B. There are over 3200 genes listed in the data, with STAT3 included as one of them. The k-means from the excel file will be analyzed as the bioinformatics method, and the cluster plot will be the visualization method. The points, centroids, and distances of the centroids will be calculated and then will be plotted onto a cluster plot which groups genes based on the differential gene expressions treated with IL-6 and IL-1."
   ]
  },
  {
   "cell_type": "markdown",
   "id": "4d30fef0",
   "metadata": {},
   "source": [
    "## Part 1: Imports"
   ]
  },
  {
   "cell_type": "markdown",
   "id": "1efc2547",
   "metadata": {},
   "source": [
    "pandas: pandas is a Python library used for data analysis and manipulation. It is capable of importing data from various file formats such as CSV, JSON, SQL, and Microsoft Excel. Some of pandas' features are data alignment and integrated handling of missing data, Label-based slicing, indexing, and subsetting of large data sets, and data filtration. For this project pandas is used to read and import an Excel file containing data. To learn more about pandas visit https://pandasguide.readthedocs.io/en/latest/.\n",
    "\n",
    "numpy: numpy is a Python library that supports large, multi-dimensional arrays and matrices. Some of numpy's features are constructing N-dimensional arrays, conducting high-level mathematical functions, and providing knowledge of the data type of an array using dtype(). NumPy can also combine with other Python packages like SciPy and matplotlib. Numpy is used here to create arrays proving points and centroids for the cluster plot. For more information on numpy visit https://numpy.readthedocs.io/.\n",
    "\n",
    "scipy: scipy is Python library used for scientific and technical computing. SciPy contains modules used for science and engineering tasks such as for optimization, linear algebra, integration, and signal and image processing. Some of scipy's features are hierarchical clustering, sparse matrices and statistical functions. Here a scipy subpackage, scipy.spatial.distance, is used to calculate the distances for the centroids. For more information on scipy visit https://readthedocs.org/projects/scipy/.\n",
    "\n",
    "sklearn: sklearn is a Python library for machine learning. Some of its features are classification, regression and clustering algorithms. It also uses other Python numerical and scientific libraries such as NumPy and SciPy. For this project, the subpackages sklearn.cluster was used to analyze the k-means. To learn more about sklearn visit https://github.com/scikit-learn/scikit-learn.\n",
    "\n",
    "matplotlib: matplotlib is a Python library used for plotting. It closely resembles MATLAB. Some of matplotlib's features are creating various graphs such as scatter plots, line plots, and histograms. Here matplotlib was used to plot the k-means cluster plot. For more information on matplotlib visit https://github.com/matplotlib/matplotlib."
   ]
  },
  {
   "cell_type": "code",
   "execution_count": 60,
   "id": "778f75fd",
   "metadata": {},
   "outputs": [],
   "source": [
    "import pandas as pd\n",
    "import numpy as np\n",
    "from scipy.spatial.distance import cdist \n",
    "from sklearn.cluster import KMeans\n",
    "import matplotlib.pyplot as plt"
   ]
  },
  {
   "cell_type": "markdown",
   "id": "eedc8559",
   "metadata": {},
   "source": [
    "## Part 2: Load data and perform k-means analysis"
   ]
  },
  {
   "cell_type": "code",
   "execution_count": 61,
   "id": "f3c41f8d",
   "metadata": {},
   "outputs": [],
   "source": [
    "#define the local variable df\n",
    "#use pandas read function to read raw excel sheet containing k-means data\n",
    "#print df to check"
   ]
  },
  {
   "cell_type": "code",
   "execution_count": 62,
   "id": "13f2d460",
   "metadata": {},
   "outputs": [
    {
     "name": "stdout",
     "output_type": "stream",
     "text": [
      "     Supplementary Data 1: All cytokine-regulated genes, k-means clustered (k = 4)  \\\n",
      "0                                                   NaN                              \n",
      "1                                               gene_id                              \n",
      "2                                         1300014I06Rik                              \n",
      "3                                         1700001G17Rik                              \n",
      "4                                         1700016G22Rik                              \n",
      "...                                                 ...                              \n",
      "3257                                              Zmiz2                              \n",
      "3258                                              Zmym3                              \n",
      "3259                                              Zrsr1                              \n",
      "3260                                             Zscan2                              \n",
      "3261                                             Zyg11a                              \n",
      "\n",
      "                    Unnamed: 1 Unnamed: 2 Unnamed: 3 Unnamed: 4 Unnamed: 5  \\\n",
      "0                          NaN        NaN        NaN        NaN        NaN   \n",
      "1                        locus    NT fpkm   IL6 fpkm  TNFa fpkm  IL1b fpkm   \n",
      "2      chr13:34719709-34744550   6.271112   6.795241   6.067322   5.679012   \n",
      "3       chr1:33726668-33727557   -3.03618  -2.281649  -2.723418  -2.642836   \n",
      "4        chr13:5854754-5857338  -1.745873  -1.639113  -1.708677  -2.359945   \n",
      "...                        ...        ...        ...        ...        ...   \n",
      "3257     chr11:6289366-6306165    1.23267   1.040667   0.932085    1.22861   \n",
      "3258    chrX:98599722-98616024   0.651277   0.175159   0.338229  -0.029325   \n",
      "3259   chr11:22872004-22876496   0.608507    0.30249   0.187582   0.256588   \n",
      "3260    chr7:88006993-88021399  -0.659655   -1.26206   -0.56333  -1.012024   \n",
      "3261  chr4:107854538-107890527  -0.476612  -0.598749   -0.90587  -1.070842   \n",
      "\n",
      "         Unnamed: 6     Unnamed: 7       Unnamed: 8  \n",
      "0               NaN            NaN              NaN  \n",
      "1     IL6+TNFa fpkm  IL6+IL1b fpkm  k-means cluster  \n",
      "2          6.418315       6.015282                1  \n",
      "3         -2.967771      -3.018251                1  \n",
      "4         -1.363551      -1.680198                1  \n",
      "...             ...            ...              ...  \n",
      "3257       0.390546        0.82596                4  \n",
      "3258      -0.380838      -0.471429                4  \n",
      "3259      -0.070855      -0.028208                4  \n",
      "3260      -1.425577      -1.066037                4  \n",
      "3261      -1.045461      -1.075888                4  \n",
      "\n",
      "[3262 rows x 9 columns]\n"
     ]
    }
   ],
   "source": [
    "df = pd.read_excel(r\"C:\\Users\\16197\\Downloads\\41467_2017_2055_MOESM3_ESM (1).xlsx\")\n",
    "print(df)"
   ]
  },
  {
   "cell_type": "code",
   "execution_count": 222,
   "id": "9bf6a3e3",
   "metadata": {},
   "outputs": [
    {
     "name": "stdout",
     "output_type": "stream",
     "text": [
      "[]\n",
      "[[33.81034633  5.98505396 21.83355003 27.98010168]\n",
      " [11.01049989 39.91510223 33.37848961 27.00378023]\n",
      " [ 6.76707903 29.05944764 25.58708521 18.70938655]\n",
      " ...\n",
      " [11.49920215 26.74626472 27.54709842 13.91129861]\n",
      " [25.5203688  11.24407775 12.85116084 26.66772683]\n",
      " [18.87307061 13.42626694 14.37179998 20.75959872]]\n",
      "[1 0 0 ... 0 1 1]\n"
     ]
    }
   ],
   "source": [
    "#after importing our data, we can now start k-means analysis\n",
    "#define our function kmeans using Python's def function\n",
    "def kmeans(df, k): \n",
    "    #using the scipy.spatial.distance subpackage, find the distance between centroids and all the data points using euclidean distance, store as local variable distances\n",
    "    distances = cdist(df, centroids ,'euclidean')\n",
    "    \n",
    "    #determine centroid with the minimum distance using numpy array, store as local variable points\n",
    "    points = np.array([np.argmin(i) for i in distances])\n",
    "     \n",
    "    #repeat the above step for a defined number of iterations using a for loop\n",
    "    for df in range(no_of_iterations): \n",
    "        centroids = []\n",
    "        for idx in range(k):\n",
    "            #updating centroids by taking mean of cluster it belongs to\n",
    "            temp_cent = [points==idx].mean(axis=0) \n",
    "            centroids.append(temp_cent)\n",
    "        #create local variables for centroid, distances, and points\n",
    "        centroids = np.vstack(centroids) #(Updated centroids) \n",
    "        distances = cdist(df, centroids ,'euclidean')\n",
    "        points = np.array([np.argmin(i) for i in distances])\n",
    "    #return points using return statement\n",
    "    return points\n",
    "#printing the following: centroids, distances, points\n",
    "print(centroids)\n",
    "print(distances)\n",
    "print(points)"
   ]
  },
  {
   "cell_type": "markdown",
   "id": "b733cdf0",
   "metadata": {},
   "source": [
    "## Part 3: Display k-means cluster plot"
   ]
  },
  {
   "cell_type": "code",
   "execution_count": 214,
   "id": "4f234992",
   "metadata": {},
   "outputs": [
    {
     "data": {
      "image/png": "[encoded data removed]",
      "text/plain": [
       "<Figure size 432x288 with 1 Axes>"
      ]
     },
     "metadata": {
      "needs_background": "light"
     },
     "output_type": "display_data"
    }
   ],
   "source": [
    "#plotting the results:\n",
    "#create local variable u_label using numpy function numpy.unique\n",
    "u_labels = np.unique(label)\n",
    "#use for loop plot points\n",
    "for i in u_labels:\n",
    "    plt.scatter(df[label == i , 0] , df[label == i , 1] , label = i)\n",
    "#provide legend for plot\n",
    "plt.legend()\n",
    "#show final result\n",
    "plt.show()"
   ]
  },
  {
   "cell_type": "markdown",
   "id": "8dd97f97",
   "metadata": {},
   "source": [
    "## Part 4: Analysis\n",
    "\n",
    "The K-means clustering algorithm was used to find groups which have not been explicitly labeled in the data. K-means clustering was used to quantify differentially expressed genes of mice hepatocytes to determine what groups of genes behave similarily or differently during the acute phase of inflammation. The cluster plots reveals an intricate crosstalk between pro-inflammatory cytokines IL-6 and IL-1. The number of groups is represented by K. In total there are four groups of K as shown in different colors on the plot. Blue indicated a k-mean of 1, yellow is 2, green is 3, and red is 4. The numbers on the x and y axis represent the levels of differential expression of genes. STAT3, with a k-mean of 1, showed expression when treated with just IL-6. STAT3 showed a higher expression when treated with IL-1. My hypothesis was correct because STAT3 expression was induced with treatment of IL-6. The limitation of this analysis is that the sample was derived from mice hepatocytes. Using human hepatocytes may reveal a different observation. "
   ]
  },
  {
   "cell_type": "markdown",
   "id": "1f615949",
   "metadata": {},
   "source": [
    "## References\n",
    "\n",
    "Wang Y, H. van Boxel-Dezaire AH, Cheon HJ, Yang J, Stark GR (2013) “STAT3 activation in response to IL-6 is prolonged by the binding of IL-6 receptor to EGF receptor” PNAS 110 (42) 16975-16980. https://www.pnas.org/content/110/42/16975\n",
    "\n",
    "Goldstein I. (2017) \"Synergistic gene expression during the acute phase response is characterized by transcription factor assisted loading\" Nature Communications Volume 8, Article number: 1849. https://www.nature.com/articles/s41467-017-02055-5\n",
    "\n",
    "https://pandasguide.readthedocs.io/en/latest/\n",
    "\n",
    "https://numpy.readthedocs.io/\n",
    "\n",
    "https://readthedocs.org/projects/scipy/\n",
    "\n",
    "https://github.com/scikit-learn/scikit-learn\n",
    "\n",
    "https://github.com/matplotlib/matplotlib\n",
    "\n",
    "https://realpython.com/k-means-clustering-python/\n",
    "\n",
    "https://www.askpython.com/python/examples/k-means-clustering-from-scratch"
   ]
  }
 ],
 "metadata": {
  "kernelspec": {
   "display_name": "Python 3",
   "language": "python",
   "name": "python3"
  },
  "language_info": {
   "codemirror_mode": {
    "name": "ipython",
    "version": 3
   },
   "file_extension": ".py",
   "mimetype": "text/x-python",
   "name": "python",
   "nbconvert_exporter": "python",
   "pygments_lexer": "ipython3",
   "version": "3.8.8"
  }
 },
 "nbformat": 4,
 "nbformat_minor": 5
}
